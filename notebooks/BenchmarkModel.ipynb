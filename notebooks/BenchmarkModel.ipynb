{
 "cells": [
  {
   "cell_type": "markdown",
   "metadata": {},
   "source": [
    "** Objectives **\n",
    "\n",
    "* Create a model based on initial data exploration.\n",
    "* Find ways to extend this model to capture interaction in the data."
   ]
  },
  {
   "cell_type": "code",
   "execution_count": 23,
   "metadata": {
    "collapsed": false
   },
   "outputs": [],
   "source": [
    "%matplotlib inline\n",
    "\n",
    "import pandas as pd\n",
    "import numpy as np\n",
    "import os, sys\n",
    "\n",
    "import matplotlib.pyplot as plt\n",
    "import seaborn as sns\n",
    "\n",
    "from sklearn.preprocessing import LabelEncoder\n",
    "from sklearn.ensemble import RandomForestRegressor\n",
    "from sklearn.cross_validation import train_test_split\n",
    "\n",
    "sns.set_style('whitegrid')\n",
    "sns.set_context('poster')\n",
    "\n",
    "import warnings\n",
    "warnings.filterwarnings('ignore')\n",
    "\n",
    "basepath = os.path.expanduser('~/Desktop/src/See_Click_Predict/')\n",
    "sys.path.append(os.path.join(basepath, 'src'))\n",
    "\n",
    "np.random.seed(0)"
   ]
  },
  {
   "cell_type": "code",
   "execution_count": 3,
   "metadata": {
    "collapsed": true
   },
   "outputs": [],
   "source": [
    "# load files\n",
    "train = pd.read_csv(os.path.join(basepath, 'data/raw/train.csv'), parse_dates=['created_time'])\n",
    "test = pd.read_csv(os.path.join(basepath,  'data/raw/test.csv'), parse_dates=['created_time'])\n",
    "sample_sub = pd.read_csv(os.path.join(basepath, 'data/raw/sampleSubmission.csv'))"
   ]
  },
  {
   "cell_type": "code",
   "execution_count": 11,
   "metadata": {
    "collapsed": false
   },
   "outputs": [],
   "source": [
    "class Data:\n",
    "    def __init__(self, train, test):\n",
    "        self.train = train\n",
    "        self.test = test\n",
    "    \n",
    "    def concat_data(self):\n",
    "        self.data = pd.concat((self.train, self.test), axis=0)\n",
    "        return self.data\n",
    "    \n",
    "    def round_location(self):\n",
    "        self.data['latitude'] = self.data.latitude.map(np.round)\n",
    "        self.data['longitude'] = self.data.longitude.map(np.round)\n",
    "        \n",
    "        return self.data\n",
    "    \n",
    "    def fill_missing_values(self, feature, value):\n",
    "        self.data[feature] = self.data[feature].fillna(value)\n",
    "        \n",
    "        return self.data\n",
    "        \n",
    "    def encode_categorical_variable(self, feature):\n",
    "        lbl = LabelEncoder()\n",
    "        \n",
    "        lbl.fit(self.data[feature])\n",
    "        self.data[feature] = lbl.transform(self.data[feature])\n",
    "        \n",
    "        return self.data\n",
    "        \n",
    "    def get_train_test(self):\n",
    "        mask = self.data.num_votes.notnull()\n",
    "        \n",
    "        train = self.data.loc[mask]\n",
    "        test = self.data.loc[~mask]\n",
    "        \n",
    "        return train, test\n",
    "    \n",
    "    def one_hot_encode(self, feature):\n",
    "        ohe = pd.get_dummies(self.data[feature])\n",
    "        self.data = pd.concat((self.data, ohe), axis=1)\n",
    "        \n",
    "        return self.data"
   ]
  },
  {
   "cell_type": "code",
   "execution_count": 109,
   "metadata": {
    "collapsed": false
   },
   "outputs": [],
   "source": [
    "d = Data(train, test)\n",
    "d.concat_data()\n",
    "d.round_location()\n",
    "d.fill_missing_values('source', 'not_known')\n",
    "d.fill_missing_values('tag_type', 'not_known')\n",
    "d.one_hot_encode('source')\n",
    "d.one_hot_encode('tag_type')\n",
    "d.one_hot_encode('latitude')\n",
    "_ = d.one_hot_encode('longitude')"
   ]
  },
  {
   "cell_type": "code",
   "execution_count": 110,
   "metadata": {
    "collapsed": false
   },
   "outputs": [],
   "source": [
    "train_, test_ = d.get_train_test()"
   ]
  },
  {
   "cell_type": "code",
   "execution_count": 111,
   "metadata": {
    "collapsed": false
   },
   "outputs": [],
   "source": [
    "assert len(train) == len(train_)\n",
    "assert len(test) == len(test_)"
   ]
  },
  {
   "cell_type": "code",
   "execution_count": 114,
   "metadata": {
    "collapsed": false
   },
   "outputs": [
    {
     "data": {
      "text/plain": [
       "Index([        'Map Widget',        'Mobile Site',     'New Map Widget',\n",
       "                  'android',     'city_initiated',             'iphone',\n",
       "                'not_known', 'remote_api_created',                'web',\n",
       "        'abandoned_vehicle', 'abandoned_vehicles',     'animal_problem',\n",
       "              'bad_driving',              'bench',       'bike_concern',\n",
       "        'blighted_property',             'bridge',           'bus_lane',\n",
       "                'crosswalk',      'drain_problem',       'drug_dealing',\n",
       "                    'flood',           'graffiti',               'heat',\n",
       "                 'homeless',            'hydrant',     'illegal_idling',\n",
       "           'lost_and_found',    'noise_complaint',          'not_known',\n",
       "                     'odor',              'other',         'overgrowth',\n",
       "            'parking_meter',   'pedestrian_light',            'pothole',\n",
       "             'prostitution',         'public_art',     'public_concern',\n",
       "              'road_safety',           'roadkill',            'robbery',\n",
       "                  'rodents',           'sidewalk',              'signs',\n",
       "                     'snow',       'street_light',      'street_signal',\n",
       "                     'test',            'traffic',              'trash',\n",
       "                     'tree',             'zoning',                 37.0,\n",
       "                       38.0,                 41.0,                 42.0,\n",
       "                     -122.0,                -88.0,                -78.0,\n",
       "                      -77.0,                -73.0],\n",
       "      dtype='object')"
      ]
     },
     "execution_count": 114,
     "metadata": {},
     "output_type": "execute_result"
    }
   ],
   "source": [
    "train_.columns[11:]"
   ]
  },
  {
   "cell_type": "markdown",
   "metadata": {},
   "source": [
    "** Model **"
   ]
  },
  {
   "cell_type": "code",
   "execution_count": 115,
   "metadata": {
    "collapsed": true
   },
   "outputs": [],
   "source": [
    "features = train_.columns[11:]\n",
    "\n",
    "X = train_[features]\n",
    "y_votes = train_.num_votes\n",
    "y_views = train_.num_views\n",
    "y_comments = train_.num_comments\n",
    "\n",
    "Xtest = test_[features]"
   ]
  },
  {
   "cell_type": "code",
   "execution_count": 116,
   "metadata": {
    "collapsed": true
   },
   "outputs": [],
   "source": [
    "itrain, itest = train_test_split(range(len(train_)), test_size=0.2, random_state=1)\n",
    "\n",
    "X_train = X.iloc[itrain]\n",
    "X_test = X.iloc[itest]\n",
    "\n",
    "y_train_votes = y_votes.iloc[itrain]\n",
    "y_test_votes =  y_votes.iloc[itest]\n",
    "\n",
    "y_train_views = y_views.iloc[itrain]\n",
    "y_test_views = y_views.iloc[itest]\n",
    "\n",
    "y_train_comments = y_comments.iloc[itrain]\n",
    "y_test_comments = y_comments.iloc[itest]"
   ]
  },
  {
   "cell_type": "code",
   "execution_count": 124,
   "metadata": {
    "collapsed": false
   },
   "outputs": [
    {
     "data": {
      "text/plain": [
       "RandomForestRegressor(bootstrap=True, criterion='mse', max_depth=None,\n",
       "           max_features='auto', max_leaf_nodes=None, min_samples_leaf=1,\n",
       "           min_samples_split=2, min_weight_fraction_leaf=0.0,\n",
       "           n_estimators=50, n_jobs=2, oob_score=False, random_state=None,\n",
       "           verbose=0, warm_start=False)"
      ]
     },
     "execution_count": 124,
     "metadata": {},
     "output_type": "execute_result"
    }
   ],
   "source": [
    "est_1 = RandomForestRegressor(n_estimators=50, n_jobs=2)\n",
    "est_2 = RandomForestRegressor(n_estimators=50, n_jobs=2)\n",
    "est_3 = RandomForestRegressor(n_estimators=50, n_jobs=2)\n",
    "\n",
    "est_1.fit(X_train, y_train_votes)\n",
    "est_2.fit(X_train, y_train_views)\n",
    "est_3.fit(X_train, y_train_comments)"
   ]
  },
  {
   "cell_type": "code",
   "execution_count": 125,
   "metadata": {
    "collapsed": false
   },
   "outputs": [],
   "source": [
    "y_preds_votes = est_1.predict(X_test)\n",
    "y_preds_views = est_2.predict(X_test)\n",
    "y_preds_comments = est_3.predict(X_test)"
   ]
  },
  {
   "cell_type": "code",
   "execution_count": 119,
   "metadata": {
    "collapsed": true
   },
   "outputs": [],
   "source": [
    "def rmsle(ytvotes, ytviews, ytcomments, ypvotes, ypviews, ypcomments):\n",
    "    s = 0 \n",
    "    \n",
    "    dvotes = (np.log(ytvotes + 1) - np.log(ypvotes + 1)) ** 2\n",
    "    dviews = (np.log(ytviews + 1) - np.log(ypviews + 1)) ** 2\n",
    "    dcomments = (np.log(ytcomments + 1) - np.log(ypcomments + 1)) ** 2\n",
    "      \n",
    "    s = np.sum(dvotes) + np.sum(dviews) + np.sum(dcomments)\n",
    "    return np.sqrt(1 / (3*len(ytvotes)) * s)\n"
   ]
  },
  {
   "cell_type": "code",
   "execution_count": 126,
   "metadata": {
    "collapsed": false
   },
   "outputs": [
    {
     "name": "stdout",
     "output_type": "stream",
     "text": [
      "RMSLE on the test set: 0.527193\n"
     ]
    }
   ],
   "source": [
    "print('RMSLE on the test set: %f'%(rmsle(y_test_votes.values, y_test_views.values, y_test_comments.values, y_preds_votes,\\\n",
    "                                         y_preds_views, y_preds_comments)))"
   ]
  },
  {
   "cell_type": "code",
   "execution_count": 55,
   "metadata": {
    "collapsed": false
   },
   "outputs": [
    {
     "data": {
      "text/plain": [
       "RandomForestRegressor(bootstrap=True, criterion='mse', max_depth=None,\n",
       "           max_features='auto', max_leaf_nodes=None, min_samples_leaf=1,\n",
       "           min_samples_split=2, min_weight_fraction_leaf=0.0,\n",
       "           n_estimators=10, n_jobs=1, oob_score=False, random_state=None,\n",
       "           verbose=0, warm_start=False)"
      ]
     },
     "execution_count": 55,
     "metadata": {},
     "output_type": "execute_result"
    }
   ],
   "source": [
    "# fit on the whole set\n",
    "est_1.fit(X, y_votes)\n",
    "est_2.fit(X, y_views)\n",
    "est_3.fit(X, y_comments)"
   ]
  },
  {
   "cell_type": "code",
   "execution_count": 74,
   "metadata": {
    "collapsed": false
   },
   "outputs": [],
   "source": [
    "ypred_views = est_1.predict(Xtest)\n",
    "ypred_votes = est_2.predict(Xtest)\n",
    "ypred_comments = est_3.predict(Xtest)"
   ]
  },
  {
   "cell_type": "code",
   "execution_count": 75,
   "metadata": {
    "collapsed": false
   },
   "outputs": [],
   "source": [
    "sample_sub['num_views'] = ypred_views\n",
    "sample_sub['num_votes'] = ypred_votes\n",
    "sample_sub['num_comments'] = ypred_comments"
   ]
  },
  {
   "cell_type": "code",
   "execution_count": 77,
   "metadata": {
    "collapsed": false
   },
   "outputs": [],
   "source": [
    "sample_sub.to_csv(os.path.join(basepath, 'submissions/benchmark_model.csv'), index=False)"
   ]
  },
  {
   "cell_type": "code",
   "execution_count": null,
   "metadata": {
    "collapsed": true
   },
   "outputs": [],
   "source": []
  }
 ],
 "metadata": {
  "kernelspec": {
   "display_name": "Python [Root]",
   "language": "python",
   "name": "Python [Root]"
  },
  "language_info": {
   "codemirror_mode": {
    "name": "ipython",
    "version": 3
   },
   "file_extension": ".py",
   "mimetype": "text/x-python",
   "name": "python",
   "nbconvert_exporter": "python",
   "pygments_lexer": "ipython3",
   "version": "3.5.2"
  }
 },
 "nbformat": 4,
 "nbformat_minor": 0
}
